{
 "cells": [
  {
   "cell_type": "markdown",
   "metadata": {},
   "source": [
    "# Chapter 7 - Collaborative Analytics with Plotly\n",
    "## Segment 1 - Creating basic charts\n",
    "### Setting up to use Plotly within Jupyter"
   ]
  },
  {
   "cell_type": "code",
   "execution_count": 15,
   "metadata": {},
   "outputs": [],
   "source": [
    "import numpy as np\n",
    "import pandas as pd\n",
    "\n",
    "import cufflinks as cf\n",
    "\n",
    "import chart_studio as cs\n",
    "import plotly.express as px\n",
    "import plotly.tools as tls\n",
    "import plotly.graph_objs as go"
   ]
  },
  {
   "cell_type": "code",
   "execution_count": 16,
   "metadata": {},
   "outputs": [],
   "source": [
    "cs.tools.set_credentials_file(username = 'ezchamba', api_key = 'N21EDQU6Y9UuX0ipSd1J')"
   ]
  },
  {
   "cell_type": "markdown",
   "metadata": {},
   "source": [
    "### Creating line charts"
   ]
  },
  {
   "cell_type": "markdown",
   "metadata": {},
   "source": [
    "#### A very basic line chart"
   ]
  },
  {
   "cell_type": "code",
   "execution_count": 17,
   "metadata": {},
   "outputs": [
    {
     "data": {
      "text/html": [
       "\n",
       "        <iframe\n",
       "            width=\"100%\"\n",
       "            height=\"525px\"\n",
       "            src=\"https://plotly.com/~ezchamba/1.embed\"\n",
       "            frameborder=\"0\"\n",
       "            allowfullscreen\n",
       "            \n",
       "        ></iframe>\n",
       "        "
      ],
      "text/plain": [
       "<IPython.lib.display.IFrame at 0x7f8628fd5f10>"
      ]
     },
     "execution_count": 17,
     "metadata": {},
     "output_type": "execute_result"
    }
   ],
   "source": [
    "a = np.linspace(start = 0, stop = 36, num = 36)\n",
    "\n",
    "np.random.seed(25)\n",
    "\n",
    "b = np.random.uniform(low = 0.0, high = 1.0, size = 36)\n",
    "\n",
    "trace = go.Scatter(x = a, y = b)\n",
    "\n",
    "data = [trace]\n",
    "\n",
    "cs.plotly.iplot(data, filename = 'basic-line-chart')        # Plotly can't have spaces in file names"
   ]
  },
  {
   "cell_type": "markdown",
   "metadata": {},
   "source": [
    "#### A line chart from a pandas dataframe "
   ]
  },
  {
   "cell_type": "code",
   "execution_count": 18,
   "metadata": {},
   "outputs": [
    {
     "data": {
      "text/html": [
       "\n",
       "        <iframe\n",
       "            width=\"100%\"\n",
       "            height=\"525px\"\n",
       "            src=\"https://plotly.com/~ezchamba/4.embed\"\n",
       "            frameborder=\"0\"\n",
       "            allowfullscreen\n",
       "            \n",
       "        ></iframe>\n",
       "        "
      ],
      "text/plain": [
       "<IPython.lib.display.IFrame at 0x7f86271f2fd0>"
      ]
     },
     "execution_count": 18,
     "metadata": {},
     "output_type": "execute_result"
    }
   ],
   "source": [
    "address = '/Users/ez/OneDrive - Vodafone Group/Courses/Python for Data Science Essential Training/Exercise files/Ex_Files_Python_Data_Science_EssT_Pt_1/Exercise Files/Data/mtcars.csv'\n",
    "\n",
    "cars = pd.read_csv(address)\n",
    "cars.columns = ['car_names','mpg','cyl','disp', 'hp', 'drat', 'wt', 'qsec', 'vs', 'am', 'gear', 'carb']\n",
    "\n",
    "df = cars[['cyl', 'wt', 'mpg']]\n",
    "\n",
    "# Need to create layout for chart\n",
    "\n",
    "layout = dict(title = 'Chart from Pandas DataFrame', xaxis = dict(title = 'x axis'), yaxis = dict(title = 'y axis'))\n",
    "\n",
    "df.iplot(filename = \"cf-simple-line-chart\", layout = layout)"
   ]
  },
  {
   "cell_type": "markdown",
   "metadata": {},
   "source": [
    "### Creating bar charts"
   ]
  },
  {
   "cell_type": "code",
   "execution_count": 19,
   "metadata": {},
   "outputs": [
    {
     "name": "stdout",
     "output_type": "stream",
     "text": [
      "[Scatter({\n",
      "    'x': array([ 0.        ,  1.02857143,  2.05714286,  3.08571429,  4.11428571,\n",
      "                 5.14285714,  6.17142857,  7.2       ,  8.22857143,  9.25714286,\n",
      "                10.28571429, 11.31428571, 12.34285714, 13.37142857, 14.4       ,\n",
      "                15.42857143, 16.45714286, 17.48571429, 18.51428571, 19.54285714,\n",
      "                20.57142857, 21.6       , 22.62857143, 23.65714286, 24.68571429,\n",
      "                25.71428571, 26.74285714, 27.77142857, 28.8       , 29.82857143,\n",
      "                30.85714286, 31.88571429, 32.91428571, 33.94285714, 34.97142857,\n",
      "                36.        ]),\n",
      "    'y': array([0.87012414, 0.58227693, 0.27883894, 0.18591123, 0.41110013, 0.11737555,\n",
      "                0.68496874, 0.43761106, 0.55622933, 0.36708032, 0.40236573, 0.1130407 ,\n",
      "                0.44703085, 0.58544512, 0.1619851 , 0.52071879, 0.32605113, 0.69918624,\n",
      "                0.36639455, 0.83637451, 0.48134294, 0.5165023 , 0.38304813, 0.9975409 ,\n",
      "                0.51424449, 0.55905327, 0.03444977, 0.71993003, 0.42100355, 0.43693513,\n",
      "                0.28170075, 0.90027434, 0.66961228, 0.45606875, 0.28980434, 0.52581896])\n",
      "})]\n"
     ]
    }
   ],
   "source": [
    "bar_data = [go.Bar(x = [1, 2, 3, 4, 5, 6, 7, 8, 9, 10], y = [1, 2, 3, 4, 0.5, 4, 3, 2, 1])]\n",
    "print(data)"
   ]
  },
  {
   "cell_type": "code",
   "execution_count": 20,
   "metadata": {},
   "outputs": [
    {
     "data": {
      "text/html": [
       "\n",
       "        <iframe\n",
       "            width=\"100%\"\n",
       "            height=\"525px\"\n",
       "            src=\"https://plotly.com/~ezchamba/12.embed\"\n",
       "            frameborder=\"0\"\n",
       "            allowfullscreen\n",
       "            \n",
       "        ></iframe>\n",
       "        "
      ],
      "text/plain": [
       "<IPython.lib.display.IFrame at 0x7f8628fdf2e0>"
      ]
     },
     "execution_count": 20,
     "metadata": {},
     "output_type": "execute_result"
    }
   ],
   "source": [
    "layout = dict(title = 'Simple Bar Chart', xaxis = dict(title = 'x axis'), yaxis = dict(title = 'y axis'))\n",
    "cs.plotly.iplot(bar_data, filename = 'basic-bar-chart', layout = layout)"
   ]
  },
  {
   "cell_type": "markdown",
   "metadata": {},
   "source": [
    "### Creating pie charts"
   ]
  },
  {
   "cell_type": "code",
   "execution_count": 22,
   "metadata": {},
   "outputs": [
    {
     "data": {
      "text/html": [
       "\n",
       "        <iframe\n",
       "            width=\"100%\"\n",
       "            height=\"525px\"\n",
       "            src=\"https://plotly.com/~ezchamba/19.embed\"\n",
       "            frameborder=\"0\"\n",
       "            allowfullscreen\n",
       "            \n",
       "        ></iframe>\n",
       "        "
      ],
      "text/plain": [
       "<IPython.lib.display.IFrame at 0x7f8628f89640>"
      ]
     },
     "execution_count": 22,
     "metadata": {},
     "output_type": "execute_result"
    }
   ],
   "source": [
    "fig = {'data':[{'labels': ['bicycle', 'motorcycle', 'car', 'van', 'stroller'],\n",
    "        'values':[1,2,3,4,0.5],\n",
    "        'type': 'pie'}],\n",
    "    'layout': {'title': 'Simple Pie Chart'}}\n",
    "cs.plotly.iplot(fig)"
   ]
  },
  {
   "cell_type": "code",
   "execution_count": null,
   "metadata": {},
   "outputs": [],
   "source": []
  }
 ],
 "metadata": {
  "anaconda-cloud": {},
  "kernelspec": {
   "display_name": "Python 3",
   "language": "python",
   "name": "python3"
  },
  "language_info": {
   "codemirror_mode": {
    "name": "ipython",
    "version": 3
   },
   "file_extension": ".py",
   "mimetype": "text/x-python",
   "name": "python",
   "nbconvert_exporter": "python",
   "pygments_lexer": "ipython3",
   "version": "3.9.5"
  }
 },
 "nbformat": 4,
 "nbformat_minor": 1
}
